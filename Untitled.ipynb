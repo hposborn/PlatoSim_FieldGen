{
 "cells": [
  {
   "cell_type": "code",
   "execution_count": 7,
   "metadata": {},
   "outputs": [
    {
     "name": "stderr",
     "output_type": "stream",
     "text": [
      "WARNING:root:PyMultiNest not imported.  MultiNest fits will not work.\n"
     ]
    }
   ],
   "source": [
    "from FieldGen import *\n",
    "from LcGen import *\n",
    "from GenLcsForPlatoSim3 import *"
   ]
  },
  {
   "cell_type": "code",
   "execution_count": 8,
   "metadata": {},
   "outputs": [],
   "source": [
    "gaia_detn_prob=init_Gaia_Source()"
   ]
  },
  {
   "cell_type": "code",
   "execution_count": 7,
   "metadata": {},
   "outputs": [
    {
     "data": {
      "text/plain": [
       "0.6050918932613067"
      ]
     },
     "execution_count": 7,
     "metadata": {},
     "output_type": "execute_result"
    }
   ],
   "source": [
    "gaia_detn_prob(0.5,2.5)"
   ]
  },
  {
   "cell_type": "code",
   "execution_count": 8,
   "metadata": {},
   "outputs": [
    {
     "data": {
      "text/plain": [
       "1.0"
      ]
     },
     "execution_count": 8,
     "metadata": {},
     "output_type": "execute_result"
    }
   ],
   "source": [
    "gaia_detn_prob(2.5,0.5)"
   ]
  },
  {
   "cell_type": "code",
   "execution_count": 2,
   "metadata": {},
   "outputs": [],
   "source": [
    "from simulation import Simulation\n"
   ]
  },
  {
   "cell_type": "code",
   "execution_count": 3,
   "metadata": {},
   "outputs": [],
   "source": [
    "outputFilePrefix=\"test_expTime_setting\""
   ]
  },
  {
   "cell_type": "code",
   "execution_count": 4,
   "metadata": {},
   "outputs": [],
   "source": [
    "sim = Simulation(outputFilePrefix)\n"
   ]
  },
  {
   "cell_type": "code",
   "execution_count": 5,
   "metadata": {},
   "outputs": [],
   "source": [
    "sim[\"General/ProjectLocation\"] = '.'"
   ]
  },
  {
   "cell_type": "code",
   "execution_count": 6,
   "metadata": {},
   "outputs": [],
   "source": [
    "sim[\"ObservingParameters/ExposureTime\"]= 21"
   ]
  },
  {
   "cell_type": "code",
   "execution_count": 9,
   "metadata": {},
   "outputs": [],
   "source": [
    "# Multiplies by ~10 earthlike planet occurrence rates:\n",
    "newfunc = lambda P,Rp: (np.clip(P,50,400)/50)**0.66 * (4.0/(np.clip(Rp,0.8,4.0)))**0.66\n",
    "\n",
    "petigura_default = assemblePet()\n",
    "petigura_new = assemblePet(multfunc=newfunc)\n"
   ]
  },
  {
   "cell_type": "code",
   "execution_count": 49,
   "metadata": {},
   "outputs": [
    {
     "data": {
      "text/plain": [
       "array([-0.34536118, -0.347786  , -0.34536118, -0.33897537, -0.35417181,\n",
       "       -0.35667494, -0.33647224, -0.35667494, -0.33647224, -0.34657359,\n",
       "       -0.34657359])"
      ]
     },
     "execution_count": 49,
     "metadata": {},
     "output_type": "execute_result"
    }
   ],
   "source": [
    "np.diff(np.log(petigura_new[1:,0]))"
   ]
  },
  {
   "cell_type": "code",
   "execution_count": 50,
   "metadata": {},
   "outputs": [
    {
     "data": {
      "image/png": "[encoded data removed]",
      "text/plain": [
       "<Figure size 1080x432 with 6 Axes>"
      ]
     },
     "metadata": {
      "needs_background": "light"
     },
     "output_type": "display_data"
    }
   ],
   "source": [
    "import matplotlib.pyplot as plt\n",
    "%matplotlib inline\n",
    "plt.figure(figsize=(15,6))\n",
    "plt.subplot(131)\n",
    "plt.title(\"Default\")\n",
    "plt.imshow(petigura_default[1:-1,1:-1],\n",
    "           aspect='auto',extent=(np.log(petigura_new[0,1]),np.log(petigura_new[0,-1]),np.log(petigura_new[-1 ,0]),np.log(petigura_new[1,0])))\n",
    "#plt.imshow(np.log10(np.vstack((petigura_default[1:-1,1:-1],petigura_new[1:-1,1:-1]))),aspect='auto')\n",
    "#plt.ylim(10.5,-0.5)\n",
    "plt.xlabel(\"orbital Period [d]\")\n",
    "plt.ylabel(\"planetary radius [Re]\")\n",
    "plt.gca().set_xticks(np.log(np.array([1,2,5,10,20,50,100,200,1000])))\n",
    "plt.gca().set_xticklabels(['1','2','5','10','20','50','100','200','1000'])\n",
    "plt.gca().set_yticks(np.log(np.array([0.5,1,2,5,10,20])))\n",
    "plt.gca().set_yticklabels(['0.5','1','2','5','10','20'])\n",
    "plt.colorbar()\n",
    "\n",
    "plt.subplot(132)\n",
    "plt.title(\"HZ enhanced\")\n",
    "plt.imshow(petigura_new[1:-1,1:-1],aspect='auto',\n",
    "           extent=(np.log(petigura_new[0,1]),np.log(petigura_new[0,-1]),np.log(petigura_new[-1 ,0]),np.log(petigura_new[1,0])))\n",
    "#plt.imshow(np.log10(petigura_new[1:-1,1:-1]),aspect='auto')\n",
    "plt.xlabel(\"orbital Period [d]\")\n",
    "plt.ylabel(\"planetary radius [Re]\")\n",
    "plt.gca().set_xticks(np.log(np.array([1,2,5,10,20,50,100,200,1000])))\n",
    "plt.gca().set_xticklabels(['1','2','5','10','20','50','100','200','1000'])\n",
    "plt.gca().set_yticks(np.log(np.array([0.5,1,2,5,10,20])))\n",
    "plt.gca().set_yticklabels(['0.5','1','2','5','10','20'])\n",
    "plt.colorbar()\n",
    "\n",
    "plt.subplot(133)\n",
    "plt.title(\"Giant enhanced\")\n",
    "giant_enhance = lambda P,Rp:6-1*(np.clip(abs(9-Rp),0.75,5.0))#This enhances the number of giant planets by a factor of 5\n",
    "petigura_btp = assemblePet(multfunc=giant_enhance)\n",
    "plt.imshow(petigura_btp[1:-1,1:-1],aspect='auto',\n",
    "           extent=(np.log(petigura_new[0,1]),np.log(petigura_new[0,-1]),np.log(petigura_new[-1 ,0]),np.log(petigura_new[1,0])))\n",
    "#plt.imshow(np.log10(petigura_new[1:-1,1:-1]),aspect='auto')\n",
    "plt.xlabel(\"orbital Period [d]\")\n",
    "plt.ylabel(\"planetary radius [Re]\")\n",
    "plt.gca().set_xticks(np.log(np.array([1,2,5,10,20,50,100,200,1000])))\n",
    "plt.gca().set_xticklabels(['1','2','5','10','20','50','100','200','1000'])\n",
    "plt.gca().set_yticks(np.log(np.array([0.5,1,2,5,10,20])))\n",
    "plt.gca().set_yticklabels(['0.5','1','2','5','10','20'])\n",
    "\n",
    "plt.colorbar()\n",
    "plt.savefig(\"../Plato_Simulations/petigura_old_new2.png\")"
   ]
  },
  {
   "cell_type": "code",
   "execution_count": 43,
   "metadata": {},
   "outputs": [
    {
     "data": {
      "text/plain": [
       "<matplotlib.image.AxesImage at 0x7f47a832ba20>"
      ]
     },
     "execution_count": 43,
     "metadata": {},
     "output_type": "execute_result"
    },
    {
     "data": {
      "image/png": "[encoded data removed]",
      "text/plain": [
       "<Figure size 432x288 with 1 Axes>"
      ]
     },
     "metadata": {
      "needs_background": "light"
     },
     "output_type": "display_data"
    }
   ],
   "source": [
    "plt.imshow(petigura_btp[1:-1,1:-1]/petigura_default[1:-1,1:-1])"
   ]
  },
  {
   "cell_type": "code",
   "execution_count": 44,
   "metadata": {},
   "outputs": [
    {
     "data": {
      "text/plain": [
       "<matplotlib.image.AxesImage at 0x7f47a83d5390>"
      ]
     },
     "execution_count": 44,
     "metadata": {},
     "output_type": "execute_result"
    },
    {
     "data": {
      "image/png": "[encoded data removed]",
      "text/plain": [
       "<Figure size 432x288 with 1 Axes>"
      ]
     },
     "metadata": {
      "needs_background": "light"
     },
     "output_type": "display_data"
    }
   ],
   "source": [
    "plt.imshow(petigura_new[1:-1,1:-1]/petigura_default[1:-1,1:-1])"
   ]
  },
  {
   "cell_type": "code",
   "execution_count": 39,
   "metadata": {},
   "outputs": [
    {
     "data": {
      "text/plain": [
       "array([[0.00000000e+00, 1.00000000e+00, 1.80000000e+00, 3.20000000e+00,\n",
       "        5.60000000e+00, 1.00000000e+01, 1.78000000e+01, 3.16000000e+01,\n",
       "        5.62000000e+01, 1.00000000e+02, 1.77800000e+02, 3.16200000e+02,\n",
       "        5.62330934e+02, 1.00005085e+03, 1.77849313e+03],\n",
       "       [2.26000000e+01, 0.00000000e+00, 0.00000000e+00, 8.00000000e-04,\n",
       "        0.00000000e+00, 0.00000000e+00, 0.00000000e+00, 0.00000000e+00,\n",
       "        0.00000000e+00, 0.00000000e+00, 0.00000000e+00, 0.00000000e+00,\n",
       "        0.00000000e+00, 0.00000000e+00, 0.00000000e+00],\n",
       "       [1.60000000e+01, 2.00000000e-04, 8.00000000e-04, 2.10000000e-03,\n",
       "        8.00000000e-04, 0.00000000e+00, 0.00000000e+00, 2.40000000e-03,\n",
       "        0.00000000e+00, 8.21642964e-03, 1.77879329e-02, 1.45252322e-02,\n",
       "        1.69632025e-02, 1.69632025e-02, 0.00000000e+00],\n",
       "       [1.13000000e+01, 0.00000000e+00, 0.00000000e+00, 5.00000000e-04,\n",
       "        0.00000000e+00, 0.00000000e+00, 2.60000000e-03, 2.40000000e-03,\n",
       "        0.00000000e+00, 2.30692063e-02, 5.96011257e-02, 4.54898745e-02,\n",
       "        5.31250683e-02, 5.31250683e-02, 0.00000000e+00],\n",
       "       [8.00000000e+00, 0.00000000e+00, 0.00000000e+00, 5.00000000e-04,\n",
       "        1.20000000e-03, 1.80000000e-03, 1.70000000e-03, 3.90000000e-03,\n",
       "        0.00000000e+00, 0.00000000e+00, 3.85790232e-02, 1.88039828e-02,\n",
       "        2.19601149e-02, 2.19601149e-02, 0.00000000e+00],\n",
       "       [5.70000000e+00, 0.00000000e+00, 0.00000000e+00, 1.10000000e-03,\n",
       "        8.00000000e-04, 2.50000000e-03, 5.60000000e-03, 5.30000000e-03,\n",
       "        8.42559089e-03, 1.32726940e-02, 1.77879329e-02, 2.69110891e-02,\n",
       "        3.14279488e-02, 3.14279488e-02, 0.00000000e+00],\n",
       "       [4.00000000e+00, 0.00000000e+00, 6.00000000e-04, 8.00000000e-04,\n",
       "        9.40000000e-03, 1.81000000e-02, 1.85000000e-02, 2.59000000e-02,\n",
       "        2.98136293e-02, 4.94565861e-02, 5.24397501e-02, 9.18805386e-02,\n",
       "        1.07302118e-01, 1.07302118e-01, 0.00000000e+00],\n",
       "       [2.80000000e+00, 0.00000000e+00, 1.01233740e-03, 9.87028962e-03,\n",
       "        1.74628201e-02, 5.35273399e-02, 6.30180030e-02, 8.40240040e-02,\n",
       "        6.47917038e-02, 5.35858205e-02, 4.29721799e-02, 1.26669025e-01,\n",
       "        1.47929637e-01, 1.47929637e-01, 0.00000000e+00],\n",
       "       [2.00000000e+00, 1.26406610e-03, 5.37228092e-03, 1.97510328e-02,\n",
       "        3.16016525e-02, 4.42423135e-02, 4.12401565e-02, 3.99760904e-02,\n",
       "        3.19173752e-02, 9.01294656e-02, 1.44547219e-01, 1.67951994e-01,\n",
       "        1.96141697e-01, 1.96141697e-01, 0.00000000e+00],\n",
       "       [1.40000000e+00, 2.39936510e-03, 7.19809529e-03, 2.81925399e-02,\n",
       "        5.25860850e-02, 9.01761382e-02, 6.99814820e-02, 5.79846565e-02,\n",
       "        5.31319754e-02, 9.47798774e-02, 1.62743473e-01, 2.39321507e-01,\n",
       "        2.58631359e-01, 2.51678432e-01, 0.00000000e+00],\n",
       "       [1.00000000e+00, 2.99599332e-03, 1.29826377e-02, 3.17075959e-02,\n",
       "        7.86448246e-02, 5.11815525e-02, 1.12349749e-01, 9.23764606e-02,\n",
       "        8.30646188e-02, 1.12299031e-01, 1.80141049e-01, 2.86462087e-01,\n",
       "        3.35491412e-01, 3.24231761e-01, 0.00000000e+00],\n",
       "       [7.07106781e-01, 2.31424956e-03, 1.67783093e-02, 2.40103392e-02,\n",
       "        7.20310176e-02, 7.41524130e-02, 8.78771986e-02, 1.08362593e-01,\n",
       "        1.09638989e-01, 1.43758938e-01, 2.03046393e-01, 3.11341710e-01,\n",
       "        3.79982915e-01, 3.81461951e-01, 0.00000000e+00],\n",
       "       [5.00000000e-01, 0.00000000e+00, 0.00000000e+00, 0.00000000e+00,\n",
       "        0.00000000e+00, 0.00000000e+00, 0.00000000e+00, 0.00000000e+00,\n",
       "        0.00000000e+00, 0.00000000e+00, 0.00000000e+00, 0.00000000e+00,\n",
       "        0.00000000e+00, 0.00000000e+00, 0.00000000e+00]])"
      ]
     },
     "execution_count": 39,
     "metadata": {},
     "output_type": "execute_result"
    }
   ],
   "source": [
    "petigura_new"
   ]
  },
  {
   "cell_type": "code",
   "execution_count": 14,
   "metadata": {},
   "outputs": [],
   "source": [
    "plt.imshow?"
   ]
  }
 ],
 "metadata": {
  "kernelspec": {
   "display_name": "Python 3",
   "language": "python",
   "name": "python3"
  },
  "language_info": {
   "codemirror_mode": {
    "name": "ipython",
    "version": 3
   },
   "file_extension": ".py",
   "mimetype": "text/x-python",
   "name": "python",
   "nbconvert_exporter": "python",
   "pygments_lexer": "ipython3",
   "version": "3.7.3"
  }
 },
 "nbformat": 4,
 "nbformat_minor": 2
}
